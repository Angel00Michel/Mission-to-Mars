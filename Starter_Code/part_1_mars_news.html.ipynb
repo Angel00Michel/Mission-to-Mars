{
 "cells": [
  {
   "cell_type": "markdown",
   "metadata": {},
   "source": [
    "# Module 12 Challenge\n",
    "## Deliverable 1: Scrape Titles and Preview Text from Mars News"
   ]
  },
  {
   "cell_type": "code",
   "execution_count": 1,
   "metadata": {},
   "outputs": [],
   "source": [
    "# Import Splinter and BeautifulSoup\n",
    "from splinter import Browser\n",
    "from bs4 import BeautifulSoup as soup\n",
    "from webdriver_manager.chrome import ChromeDriverManager"
   ]
  },
  {
   "cell_type": "code",
   "execution_count": 2,
   "metadata": {
    "scrolled": true
   },
   "outputs": [],
   "source": [
    "executable_path = {'executable_path': ChromeDriverManager().install()}\n",
    "browser = Browser('chrome', **executable_path, headless = False)"
   ]
  },
  {
   "cell_type": "markdown",
   "metadata": {},
   "source": [
    "### Step 1: Visit the Website\n",
    "\n",
    "1. Use automated browsing to visit the [Mars NASA news site](https://redplanetscience.com). Inspect the page to identify which elements to scrape.\n",
    "\n",
    "      > **Hint** To identify which elements to scrape, you might want to inspect the page by using Chrome DevTools."
   ]
  },
  {
   "cell_type": "code",
   "execution_count": 3,
   "metadata": {},
   "outputs": [],
   "source": [
    "# Visit the Mars NASA news site: https://redplanetscience.com\n",
    "url = 'https://redplanetscience.com/'\n",
    "browser.visit(url)"
   ]
  },
  {
   "cell_type": "markdown",
   "metadata": {},
   "source": [
    "### Step 2: Scrape the Website\n",
    "\n",
    "Create a Beautiful Soup object and use it to extract text elements from the website."
   ]
  },
  {
   "cell_type": "code",
   "execution_count": 4,
   "metadata": {},
   "outputs": [],
   "source": [
    "# Create a Beautiful Soup object\n",
    "html = browser.html\n",
    "html_soup = soup(html, 'html.parser')"
   ]
  },
  {
   "cell_type": "code",
   "execution_count": 5,
   "metadata": {
    "scrolled": true
   },
   "outputs": [
    {
     "name": "stdout",
     "output_type": "stream",
     "text": [
      "1 . Q&A with the Student Who Named Ingenuity, NASA's Mars Helicopter\n",
      "2 . Two of a Space Kind: Apollo 12 and Mars 2020\n",
      "3 . NASA's Perseverance Rover Will Peer Beneath Mars' Surface \n",
      "4 . Air Deliveries Bring NASA's Perseverance Mars Rover Closer to Launch\n",
      "5 . Global Storms on Mars Launch Dust Towers Into the Sky\n",
      "6 . NASA Wins Two Emmy Awards for Interactive Mission Coverage\n",
      "7 . While Stargazing on Mars, NASA's Curiosity Rover Spots Earth and Venus\n",
      "8 . Mars 2020 Unwrapped and Ready for More Testing\n",
      "9 . NASA's Perseverance Rover Attached to Atlas V Rocket\n",
      "10 . The Man Who Wanted to Fly on Mars\n",
      "11 . A New Video Captures the Science of NASA's Perseverance Mars Rover\n",
      "12 . What's Mars Solar Conjunction, and Why Does It Matter?\n",
      "13 . NASA Prepares for Moon and Mars With New Addition to Its Deep Space Network\n",
      "14 . New Selfie Shows Curiosity, the Mars Chemist\n",
      "15 . MOXIE Could Help Future Rockets Launch Off Mars\n",
      "1 . As a longtime fan of space exploration, Vaneeza Rupani appreciates the creativity and collaboration involved with trying to fly on another planet.\n",
      "2 . Apollo 12 and the upcoming Mars 2020 mission may be separated by half a century, but they share several goals unique in the annals of space exploration.\n",
      "3 . The agency's newest rover will use the first ground-penetrating radar instrument on the Martian surface to help search for signs of past microbial life. \n",
      "4 . A NASA Wallops Flight Facility cargo plane transported more than two tons of equipment — including the rover's sample collection tubes — to Florida for this summer's liftoff.\n",
      "5 . A Mars Dust Tower Stands Out Dust storms are common on Mars. But every decade or so, something unpredictable happens: a series of runaway storms break out, covering the entire planet in a dusty haze.\n",
      "6 . NASA-JPL's coverage of the Mars InSight landing earns one of the two wins, making this the NASA center's second Emmy.\n",
      "7 . This new portrait of the Red Planet's neighbors was taken during a time when there's more dust in the air on Mars.\n",
      "8 . In time-lapse video, bunny-suited engineers remove the inner layer of protective foil on NASA's Mars 2020 rover after it was relocated for testing.\n",
      "9 . Ready for its launch later in the month, the Mars-bound rover will touch terra firma no more.\n",
      "10 . The Mars Helicopter is riding to the Red Planet this summer with NASA's Perseverance rover. The helicopter's chief engineer, Bob Balaram, shares the saga of how it came into being.\n",
      "11 . With a targeted launch date of July 30, the next robotic scientist NASA is sending to the to the Red Planet has big ambitions.\n",
      "12 . NASA spacecraft at Mars are going to be on their own for a few weeks when the Sun comes between Mars and Earth, interrupting communications.\n",
      "13 . Robotic spacecraft will be able to communicate with the dish using radio waves and lasers.\n",
      "14 . The NASA rover performed a special chemistry experiment at the location captured in its newest self-portrait.\n",
      "15 . NASA's Perseverance rover carries a device to convert Martian air into oxygen that, if produced on a larger scale, could be used not just for breathing, but also for fuel.\n"
     ]
    }
   ],
   "source": [
    "# Extract all the text elements\n",
    "\n",
    "#Scraping the title text from each article\n",
    "titles = html_soup.find_all('div',class_='content_title')\n",
    "x = 1\n",
    "for title in titles:\n",
    "    print(x,\".\",title.text)\n",
    "    x = x+1\n",
    "\n",
    "#Scraping the preview text from each article\n",
    "previews = html_soup.find_all('div', class_='article_teaser_body')\n",
    "\n",
    "y = 1\n",
    "for preview in previews:\n",
    "    print(y,'.',preview.text)\n",
    "    y = y+1"
   ]
  },
  {
   "cell_type": "markdown",
   "metadata": {},
   "source": [
    "### Step 3: Store the Results\n",
    "\n",
    "Extract the titles and preview text of the news articles that you scraped. Store the scraping results in Python data structures as follows:\n",
    "\n",
    "* Store each title-and-preview pair in a Python dictionary. And, give each dictionary two keys: `title` and `preview`. An example is the following:\n",
    "\n",
    "  ```python\n",
    "  {'title': \"Mars Rover Begins Mission!\", \n",
    "        'preview': \"NASA's Mars Rover begins a multiyear mission to collect data about the little-explored planet.\"}\n",
    "  ```\n",
    "\n",
    "* Store all the dictionaries in a Python list.\n",
    "\n",
    "* Print the list in your notebook."
   ]
  },
  {
   "cell_type": "code",
   "execution_count": 6,
   "metadata": {},
   "outputs": [],
   "source": [
    "# Create an empty list to store the dictionaries\n",
    "result = []"
   ]
  },
  {
   "cell_type": "code",
   "execution_count": 7,
   "metadata": {},
   "outputs": [],
   "source": [
    "# Loop through the text elements\n",
    "# Extract the title and preview text from the elements\n",
    "# Store each title and preview pair in a dictionary\n",
    "# Add the dictionary to the list\n",
    "for (t, p) in zip(titles, previews):\n",
    "\n",
    "    #print(\"t.text:%s\" % t.text)\n",
    "    #print(\"p.text:%s\" % p.text)\n",
    "    d = {}\n",
    "    d['titles'] = t.text\n",
    "    d['previews'] = p.text\n",
    "    #print(\"d:%s\" % d)\n",
    "    result.append(d)"
   ]
  },
  {
   "cell_type": "code",
   "execution_count": 8,
   "metadata": {
    "scrolled": true
   },
   "outputs": [
    {
     "name": "stdout",
     "output_type": "stream",
     "text": [
      "{'titles': \"Q&A with the Student Who Named Ingenuity, NASA's Mars Helicopter\", 'previews': 'As a longtime fan of space exploration, Vaneeza Rupani appreciates the creativity and collaboration involved with trying to fly on another planet.'}\n",
      "{'titles': 'Two of a Space Kind: Apollo 12 and Mars 2020', 'previews': 'Apollo 12 and the upcoming Mars 2020 mission may be separated by half a century, but they share several goals unique in the annals of space exploration.'}\n",
      "{'titles': \"NASA's Perseverance Rover Will Peer Beneath Mars' Surface \", 'previews': \"The agency's newest rover will use the first ground-penetrating radar instrument on the Martian surface to help search for signs of past microbial life. \"}\n",
      "{'titles': \"Air Deliveries Bring NASA's Perseverance Mars Rover Closer to Launch\", 'previews': \"A NASA Wallops Flight Facility cargo plane transported more than two tons of equipment — including the rover's sample collection tubes — to Florida for this summer's liftoff.\"}\n",
      "{'titles': 'Global Storms on Mars Launch Dust Towers Into the Sky', 'previews': 'A Mars Dust Tower Stands Out Dust storms are common on Mars. But every decade or so, something unpredictable happens: a series of runaway storms break out, covering the entire planet in a dusty haze.'}\n",
      "{'titles': 'NASA Wins Two Emmy Awards for Interactive Mission Coverage', 'previews': \"NASA-JPL's coverage of the Mars InSight landing earns one of the two wins, making this the NASA center's second Emmy.\"}\n",
      "{'titles': \"While Stargazing on Mars, NASA's Curiosity Rover Spots Earth and Venus\", 'previews': \"This new portrait of the Red Planet's neighbors was taken during a time when there's more dust in the air on Mars.\"}\n",
      "{'titles': 'Mars 2020 Unwrapped and Ready for More Testing', 'previews': \"In time-lapse video, bunny-suited engineers remove the inner layer of protective foil on NASA's Mars 2020 rover after it was relocated for testing.\"}\n",
      "{'titles': \"NASA's Perseverance Rover Attached to Atlas V Rocket\", 'previews': 'Ready for its launch later in the month, the Mars-bound rover will touch terra firma no more.'}\n",
      "{'titles': 'The Man Who Wanted to Fly on Mars', 'previews': \"The Mars Helicopter is riding to the Red Planet this summer with NASA's Perseverance rover. The helicopter's chief engineer, Bob Balaram, shares the saga of how it came into being.\"}\n",
      "{'titles': \"A New Video Captures the Science of NASA's Perseverance Mars Rover\", 'previews': 'With a targeted launch date of July 30, the next robotic scientist NASA is sending to the to the Red Planet has big ambitions.'}\n",
      "{'titles': \"What's Mars Solar Conjunction, and Why Does It Matter?\", 'previews': 'NASA spacecraft at Mars are going to be on their own for a few weeks when the Sun comes between Mars and Earth, interrupting communications.'}\n",
      "{'titles': 'NASA Prepares for Moon and Mars With New Addition to Its Deep Space Network', 'previews': 'Robotic spacecraft will be able to communicate with the dish using radio waves and lasers.'}\n",
      "{'titles': 'New Selfie Shows Curiosity, the Mars Chemist', 'previews': 'The NASA rover performed a special chemistry experiment at the location captured in its newest self-portrait.'}\n",
      "{'titles': 'MOXIE Could Help Future Rockets Launch Off Mars', 'previews': \"NASA's Perseverance rover carries a device to convert Martian air into oxygen that, if produced on a larger scale, could be used not just for breathing, but also for fuel.\"}\n"
     ]
    }
   ],
   "source": [
    "# Print the list to confirm success\n",
    "for res in result:\n",
    "    print(res)"
   ]
  },
  {
   "cell_type": "code",
   "execution_count": 9,
   "metadata": {},
   "outputs": [],
   "source": [
    "browser.quit()"
   ]
  },
  {
   "cell_type": "markdown",
   "metadata": {},
   "source": [
    "### (Optional) Step 4: Export the Data\n",
    "\n",
    "Optionally, store the scraped data in a file or database (to ease sharing the data with others). To do so, export the scraped data to either a JSON file or a MongoDB database."
   ]
  },
  {
   "cell_type": "code",
   "execution_count": 10,
   "metadata": {},
   "outputs": [],
   "source": [
    "# Export data to JSON\n",
    "import json\n",
    "with open('result.json', 'w') as f:\n",
    "    json.dump(result, f)"
   ]
  },
  {
   "cell_type": "code",
   "execution_count": 11,
   "metadata": {},
   "outputs": [],
   "source": [
    "# Export data to MongoDB\n"
   ]
  }
 ],
 "metadata": {
  "kernelspec": {
   "display_name": "Python 3 (ipykernel)",
   "language": "python",
   "name": "python3"
  },
  "language_info": {
   "codemirror_mode": {
    "name": "ipython",
    "version": 3
   },
   "file_extension": ".py",
   "mimetype": "text/x-python",
   "name": "python",
   "nbconvert_exporter": "python",
   "pygments_lexer": "ipython3",
   "version": "3.9.12"
  }
 },
 "nbformat": 4,
 "nbformat_minor": 4
}
